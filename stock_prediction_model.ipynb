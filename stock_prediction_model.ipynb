{
  "nbformat": 4,
  "nbformat_minor": 0,
  "metadata": {
    "colab": {
      "name": "stock-prediction-model.ipynb",
      "provenance": [],
      "collapsed_sections": [],
      "authorship_tag": "ABX9TyMJexCDHOFQQbN+FCEYOT+M",
      "include_colab_link": true
    },
    "kernelspec": {
      "name": "python3",
      "display_name": "Python 3"
    }
  },
  "cells": [
    {
      "cell_type": "markdown",
      "metadata": {
        "id": "view-in-github",
        "colab_type": "text"
      },
      "source": [
        "<a href=\"https://colab.research.google.com/github/anish-nagariya/Shopping-Prediction-Model/blob/main/stock_prediction_model.ipynb\" target=\"_parent\"><img src=\"https://colab.research.google.com/assets/colab-badge.svg\" alt=\"Open In Colab\"/></a>"
      ]
    },
    {
      "cell_type": "code",
      "metadata": {
        "id": "adw4psI5kB7y"
      },
      "source": [
        "import matplotlib.pyplot as plt\n",
        "import pandas as pd\n",
        "import numpy as np\n",
        "import keras\n",
        "\n",
        "from sklearn.preprocessing import MinMaxScaler\n",
        "from textblob import TextBlob\n",
        "from polygon import RESTClient\n",
        "from tensorflow.keras import Sequential\n",
        "from tensorflow.keras.layers import Dense, LSTM, Dropout, Bidirectional, Activation\n",
        "\n",
        "API_KEY = 'vqeohd8x5k1x6PKiisJQS8RgS3A1iRQC'"
      ],
      "execution_count": 2,
      "outputs": []
    },
    {
      "cell_type": "code",
      "metadata": {
        "id": "vP0ae5laQT_2"
      },
      "source": [
        "def get_all_data(ticker, api_key):\n",
        "    f = open('ticker_folder/' + ticker + '.csv', 'w')\n",
        "    with RESTClient(api_key) as client:\n",
        "        resp = client.stocks_equities_aggregates(ticker=ticker, multiplier=1, timespan='day',\n",
        "                                                 from_='1999-07-12', to='2021-02-03', unadjusted=False,\n",
        "                                                 sort='asc', limit=50000)\n",
        "        resp = resp.results\n",
        "        f.write('timestamp,open,low,high,volume,close\\n')\n",
        "        for query in resp:\n",
        "            f.write(str(query['t']) + ',' + str(query['o']) + ',' + str(query['l']) + ','\n",
        "                    + str(query['h']) + ',' + str(query['v']) + ',' + str(query['c']) + '\\n')\n",
        "    f.close()\n",
        "    f = open('ticker_folder/' + ticker + '.csv', 'r')\n",
        "    df = pd.read_csv(f)\n",
        "    return df"
      ],
      "execution_count": 3,
      "outputs": []
    },
    {
      "cell_type": "code",
      "metadata": {
        "colab": {
          "base_uri": "https://localhost:8080/",
          "height": 204
        },
        "id": "vILTxv9kY8PD",
        "outputId": "271419bd-b939-4143-b72a-c1fcd084568a"
      },
      "source": [
        "df = get_all_data('BRK.B', API_KEY)\n",
        "df.tail()"
      ],
      "execution_count": 4,
      "outputs": [
        {
          "output_type": "execute_result",
          "data": {
            "text/html": [
              "<div>\n",
              "<style scoped>\n",
              "    .dataframe tbody tr th:only-of-type {\n",
              "        vertical-align: middle;\n",
              "    }\n",
              "\n",
              "    .dataframe tbody tr th {\n",
              "        vertical-align: top;\n",
              "    }\n",
              "\n",
              "    .dataframe thead th {\n",
              "        text-align: right;\n",
              "    }\n",
              "</style>\n",
              "<table border=\"1\" class=\"dataframe\">\n",
              "  <thead>\n",
              "    <tr style=\"text-align: right;\">\n",
              "      <th></th>\n",
              "      <th>timestamp</th>\n",
              "      <th>open</th>\n",
              "      <th>low</th>\n",
              "      <th>high</th>\n",
              "      <th>volume</th>\n",
              "      <th>close</th>\n",
              "    </tr>\n",
              "  </thead>\n",
              "  <tbody>\n",
              "    <tr>\n",
              "      <th>4361</th>\n",
              "      <td>1611810000000</td>\n",
              "      <td>229.7600</td>\n",
              "      <td>228.160</td>\n",
              "      <td>233.51</td>\n",
              "      <td>6048784.0</td>\n",
              "      <td>230.95</td>\n",
              "    </tr>\n",
              "    <tr>\n",
              "      <th>4362</th>\n",
              "      <td>1611896400000</td>\n",
              "      <td>229.4500</td>\n",
              "      <td>227.210</td>\n",
              "      <td>229.97</td>\n",
              "      <td>6485196.0</td>\n",
              "      <td>227.87</td>\n",
              "    </tr>\n",
              "    <tr>\n",
              "      <th>4363</th>\n",
              "      <td>1612155600000</td>\n",
              "      <td>229.9699</td>\n",
              "      <td>228.040</td>\n",
              "      <td>230.50</td>\n",
              "      <td>4202895.0</td>\n",
              "      <td>229.32</td>\n",
              "    </tr>\n",
              "    <tr>\n",
              "      <th>4364</th>\n",
              "      <td>1612242000000</td>\n",
              "      <td>231.2100</td>\n",
              "      <td>230.665</td>\n",
              "      <td>233.43</td>\n",
              "      <td>5375828.0</td>\n",
              "      <td>232.24</td>\n",
              "    </tr>\n",
              "    <tr>\n",
              "      <th>4365</th>\n",
              "      <td>1612328400000</td>\n",
              "      <td>232.4000</td>\n",
              "      <td>231.280</td>\n",
              "      <td>233.16</td>\n",
              "      <td>3900045.0</td>\n",
              "      <td>232.68</td>\n",
              "    </tr>\n",
              "  </tbody>\n",
              "</table>\n",
              "</div>"
            ],
            "text/plain": [
              "          timestamp      open      low    high     volume   close\n",
              "4361  1611810000000  229.7600  228.160  233.51  6048784.0  230.95\n",
              "4362  1611896400000  229.4500  227.210  229.97  6485196.0  227.87\n",
              "4363  1612155600000  229.9699  228.040  230.50  4202895.0  229.32\n",
              "4364  1612242000000  231.2100  230.665  233.43  5375828.0  232.24\n",
              "4365  1612328400000  232.4000  231.280  233.16  3900045.0  232.68"
            ]
          },
          "metadata": {
            "tags": []
          },
          "execution_count": 4
        }
      ]
    },
    {
      "cell_type": "code",
      "metadata": {
        "colab": {
          "base_uri": "https://localhost:8080/",
          "height": 204
        },
        "id": "kCx9UCMc92lW",
        "outputId": "db5d62cc-d2bf-4b1b-eb3c-44ac648521e2"
      },
      "source": [
        "df = df.drop(['timestamp'], axis=1)\n",
        "df.tail()"
      ],
      "execution_count": 5,
      "outputs": [
        {
          "output_type": "execute_result",
          "data": {
            "text/html": [
              "<div>\n",
              "<style scoped>\n",
              "    .dataframe tbody tr th:only-of-type {\n",
              "        vertical-align: middle;\n",
              "    }\n",
              "\n",
              "    .dataframe tbody tr th {\n",
              "        vertical-align: top;\n",
              "    }\n",
              "\n",
              "    .dataframe thead th {\n",
              "        text-align: right;\n",
              "    }\n",
              "</style>\n",
              "<table border=\"1\" class=\"dataframe\">\n",
              "  <thead>\n",
              "    <tr style=\"text-align: right;\">\n",
              "      <th></th>\n",
              "      <th>open</th>\n",
              "      <th>low</th>\n",
              "      <th>high</th>\n",
              "      <th>volume</th>\n",
              "      <th>close</th>\n",
              "    </tr>\n",
              "  </thead>\n",
              "  <tbody>\n",
              "    <tr>\n",
              "      <th>4361</th>\n",
              "      <td>229.7600</td>\n",
              "      <td>228.160</td>\n",
              "      <td>233.51</td>\n",
              "      <td>6048784.0</td>\n",
              "      <td>230.95</td>\n",
              "    </tr>\n",
              "    <tr>\n",
              "      <th>4362</th>\n",
              "      <td>229.4500</td>\n",
              "      <td>227.210</td>\n",
              "      <td>229.97</td>\n",
              "      <td>6485196.0</td>\n",
              "      <td>227.87</td>\n",
              "    </tr>\n",
              "    <tr>\n",
              "      <th>4363</th>\n",
              "      <td>229.9699</td>\n",
              "      <td>228.040</td>\n",
              "      <td>230.50</td>\n",
              "      <td>4202895.0</td>\n",
              "      <td>229.32</td>\n",
              "    </tr>\n",
              "    <tr>\n",
              "      <th>4364</th>\n",
              "      <td>231.2100</td>\n",
              "      <td>230.665</td>\n",
              "      <td>233.43</td>\n",
              "      <td>5375828.0</td>\n",
              "      <td>232.24</td>\n",
              "    </tr>\n",
              "    <tr>\n",
              "      <th>4365</th>\n",
              "      <td>232.4000</td>\n",
              "      <td>231.280</td>\n",
              "      <td>233.16</td>\n",
              "      <td>3900045.0</td>\n",
              "      <td>232.68</td>\n",
              "    </tr>\n",
              "  </tbody>\n",
              "</table>\n",
              "</div>"
            ],
            "text/plain": [
              "          open      low    high     volume   close\n",
              "4361  229.7600  228.160  233.51  6048784.0  230.95\n",
              "4362  229.4500  227.210  229.97  6485196.0  227.87\n",
              "4363  229.9699  228.040  230.50  4202895.0  229.32\n",
              "4364  231.2100  230.665  233.43  5375828.0  232.24\n",
              "4365  232.4000  231.280  233.16  3900045.0  232.68"
            ]
          },
          "metadata": {
            "tags": []
          },
          "execution_count": 5
        }
      ]
    },
    {
      "cell_type": "code",
      "metadata": {
        "id": "lb5MpQBkRtnn"
      },
      "source": [
        "def split_data(data):\n",
        "    days = len(data)\n",
        "    data_training = data[:days - 60]\n",
        "    data_testing = data[days - 60:]\n",
        "    scaler = MinMaxScaler()\n",
        "    training_data = data_training.copy()\n",
        "    data_training = scaler.fit_transform(data_training)\n",
        "    x_train, y_train, x_test, y_test = [], [], [], []\n",
        "\n",
        "    for i in range(60, data_training.shape[0]):\n",
        "        x_train.append(data_training[i - 60: i])\n",
        "        y_train.append(data_training[i, 0])\n",
        "\n",
        "    past_60_days = training_data.tail(60)\n",
        "    df = past_60_days.append(data_testing, ignore_index=True)\n",
        "    inputs = scaler.transform(df)\n",
        "\n",
        "    for i in range(60, inputs.shape[0]):\n",
        "        x_test.append(inputs[i - 60:i])\n",
        "        y_test.append(inputs[i, 0])\n",
        "\n",
        "    x_train = np.asarray(x_train)\n",
        "    y_train = np.asarray(y_train)\n",
        "    x_test = np.asarray(x_test)\n",
        "    y_test = np.asarray(y_test)\n",
        "\n",
        "    return x_train, y_train, x_test, y_test, scaler.scale_[0]\n"
      ],
      "execution_count": 6,
      "outputs": []
    },
    {
      "cell_type": "code",
      "metadata": {
        "id": "8DBQyTBFTkZo"
      },
      "source": [
        "def create_neural_network():\n",
        "    model = Sequential()\n",
        "    model.add(Bidirectional(LSTM(units=50, activation='relu', input_shape=(60, 5), return_sequences=True)))\n",
        "    model.add(Dropout(0.1))\n",
        "\n",
        "    model.add(Bidirectional(LSTM(units=60, activation='relu', return_sequences=True)))\n",
        "    model.add(Dropout(0.1))\n",
        "\n",
        "    model.add(Bidirectional(LSTM(units=80, activation='relu', return_sequences=True)))\n",
        "    model.add(Dropout(0.1))\n",
        "\n",
        "    model.add(Bidirectional(LSTM(units=100, activation='relu', return_sequences=True)))\n",
        "    model.add(Dropout(0.1))\n",
        "\n",
        "    model.add(Bidirectional(LSTM(units=120, activation='relu', return_sequences=False)))\n",
        "    model.add(Dropout(0.1))\n",
        "\n",
        "    model.add(Dense(units=50))\n",
        "    model.add(Dense(units=25))\n",
        "    model.add(Dense(units=1))\n",
        "\n",
        "    return model"
      ],
      "execution_count": 7,
      "outputs": []
    },
    {
      "cell_type": "code",
      "metadata": {
        "id": "uAbXfBT6T2nJ"
      },
      "source": [
        "def visualize_prediction(predictions, y_test, ticker):\n",
        "    plt.figure(figsize=(14, 5))\n",
        "    plt.plot(y_test, c='r', label='Real ' + ticker + ' stock price')\n",
        "    plt.plot(predictions, c='b', label='Predicted ' + ticker + ' stock price')\n",
        "    plt.xlabel('time')\n",
        "    plt.ylabel(ticker + ' Stock Price')\n",
        "    plt.legend()\n",
        "    plt.show()"
      ],
      "execution_count": 8,
      "outputs": []
    },
    {
      "cell_type": "code",
      "metadata": {
        "id": "g-SuSRk7UPFn"
      },
      "source": [
        "API_KEY = 'vqeohd8x5k1x6PKiisJQS8RgS3A1iRQC'\n",
        "tickers = [\n",
        "    'MSFT', 'AAPL', 'AMZN', 'GOOG', 'GOOGL',\n",
        "    'FB', 'BRK.B', 'JNJ', 'V',\n",
        "    'PG','JPM', 'UNH', 'MA', 'INTC', 'VZ',\n",
        "    'HD', 'T', 'PFE', 'MRK', 'PEP'\n",
        "    ]\n",
        "ticker = 'BRK.B'"
      ],
      "execution_count": 9,
      "outputs": []
    },
    {
      "cell_type": "code",
      "metadata": {
        "id": "ahcMAlx1Uhce"
      },
      "source": [
        "def main():\n",
        "    df = get_all_data(ticker, API_KEY)\n",
        "    df = df.drop(['timestamp'], axis=1)\n",
        "    x_train, y_train, x_test, y_test, scaler = split_data(df)\n",
        "    scale = 1/scaler\n",
        "\n",
        "    model = create_neural_network()\n",
        "    model.compile(optimizer='adam', loss='mean_squared_error')\n",
        "    model.fit(x_train, y_train, epochs=5, batch_size=24)\n",
        "    predictions = model.predict(x_test)\n",
        "    model.save('models/' + ticker)\n",
        "\n",
        "    y_test = y_test * scale\n",
        "    predictions = predictions * scale\n",
        "    visualize_prediction(predictions, y_test, ticker)\n"
      ],
      "execution_count": 10,
      "outputs": []
    },
    {
      "cell_type": "code",
      "metadata": {
        "colab": {
          "base_uri": "https://localhost:8080/",
          "height": 521
        },
        "id": "ZVgA0LRitpVZ",
        "outputId": "a62d3cba-dfc8-41bc-c48d-915fb174722a"
      },
      "source": [
        "if __name__ == \"__main__\":\n",
        "    main()"
      ],
      "execution_count": 11,
      "outputs": [
        {
          "output_type": "stream",
          "text": [
            "Epoch 1/5\n",
            "177/177 [==============================] - 93s 450ms/step - loss: 0.0194\n",
            "Epoch 2/5\n",
            "177/177 [==============================] - 79s 449ms/step - loss: 0.0015\n",
            "Epoch 3/5\n",
            "177/177 [==============================] - 79s 447ms/step - loss: 0.0012\n",
            "Epoch 4/5\n",
            "177/177 [==============================] - 87s 491ms/step - loss: 0.0011\n",
            "Epoch 5/5\n",
            "177/177 [==============================] - 80s 450ms/step - loss: 9.3769e-04\n",
            "INFO:tensorflow:Assets written to: models/BRK.B/assets\n"
          ],
          "name": "stdout"
        },
        {
          "output_type": "display_data",
          "data": {
            "image/png": "[encoded data removed]",
            "text/plain": [
              "<Figure size 1008x360 with 1 Axes>"
            ]
          },
          "metadata": {
            "tags": [],
            "needs_background": "light"
          }
        }
      ]
    },
    {
      "cell_type": "markdown",
      "metadata": {
        "id": "4pGQ_B625Y3U"
      },
      "source": [
        " **Funtions that are created for future usage:**\n",
        "\n",
        "---\n",
        "\n"
      ]
    },
    {
      "cell_type": "code",
      "metadata": {
        "id": "zkk90aP25Xu6"
      },
      "source": [
        "def get_all_news(ticker, api_key):  # function works on pycharm, however google colab cannot open the csv file\n",
        "    f = open(ticker + '_news.csv', 'w')\n",
        "    f.write('date,title\\n')\n",
        "    with RESTClient(api_key) as client:\n",
        "        for j in range(25):\n",
        "            resp = client.reference_ticker_news(symbol=ticker, perpage=50, page=j)\n",
        "            for i in range(50):\n",
        "                f.write(resp.news[i].timestamp + ',' + resp.news[i].title + '\\n')\n",
        "    f.close()"
      ],
      "execution_count": 12,
      "outputs": []
    },
    {
      "cell_type": "code",
      "metadata": {
        "id": "20CrZXWD5rCZ"
      },
      "source": [
        "\n",
        "def get_minute_data(ticker, api_key, last_minutes):  # gets minute by minute data for last (last_minutes) minutes\n",
        "    f = open('recent_ticker_data/' + ticker + '.csv', 'w')\n",
        "    with RESTClient(api_key) as client:\n",
        "        resp = client.stocks_equities_aggregates(ticker=ticker, multiplier=1, timespan='minute',\n",
        "                                                 from_='1999-07-12', to='2021-02-03', unadjusted=False,\n",
        "                                                 sort='desc', limit=last_minutes)\n",
        "        resp = resp.results\n",
        "        f.write('timestamp,open,low,high,volume,close\\n')\n",
        "        for query in resp:\n",
        "            f.write(str(query['t']) + ',' + str(query['o']) + ',' + str(query['l']) + ',' + str(query['h']) + ',' + str(query['v']) + ',' + str(query['c']) + '\\n')\n",
        "        f.close()\n",
        "    f = open('recent_ticker_data/' + ticker + '.csv', 'r')\n",
        "    df = pd.read_csv(f)\n",
        "    return df"
      ],
      "execution_count": 13,
      "outputs": []
    },
    {
      "cell_type": "code",
      "metadata": {
        "colab": {
          "base_uri": "https://localhost:8080/",
          "height": 204
        },
        "id": "LPqtIdbh8dzg",
        "outputId": "0c970f3b-48b6-4cf1-d29d-d437201b01d8"
      },
      "source": [
        "df = get_minute_data('BRK.B', API_KEY, 50)\n",
        "df.head()"
      ],
      "execution_count": 14,
      "outputs": [
        {
          "output_type": "execute_result",
          "data": {
            "text/html": [
              "<div>\n",
              "<style scoped>\n",
              "    .dataframe tbody tr th:only-of-type {\n",
              "        vertical-align: middle;\n",
              "    }\n",
              "\n",
              "    .dataframe tbody tr th {\n",
              "        vertical-align: top;\n",
              "    }\n",
              "\n",
              "    .dataframe thead th {\n",
              "        text-align: right;\n",
              "    }\n",
              "</style>\n",
              "<table border=\"1\" class=\"dataframe\">\n",
              "  <thead>\n",
              "    <tr style=\"text-align: right;\">\n",
              "      <th></th>\n",
              "      <th>timestamp</th>\n",
              "      <th>open</th>\n",
              "      <th>low</th>\n",
              "      <th>high</th>\n",
              "      <th>volume</th>\n",
              "      <th>close</th>\n",
              "    </tr>\n",
              "  </thead>\n",
              "  <tbody>\n",
              "    <tr>\n",
              "      <th>0</th>\n",
              "      <td>1612399860000</td>\n",
              "      <td>233.01</td>\n",
              "      <td>233.01</td>\n",
              "      <td>233.01</td>\n",
              "      <td>100</td>\n",
              "      <td>233.01</td>\n",
              "    </tr>\n",
              "    <tr>\n",
              "      <th>1</th>\n",
              "      <td>1612399260000</td>\n",
              "      <td>233.20</td>\n",
              "      <td>233.20</td>\n",
              "      <td>233.20</td>\n",
              "      <td>214</td>\n",
              "      <td>233.20</td>\n",
              "    </tr>\n",
              "    <tr>\n",
              "      <th>2</th>\n",
              "      <td>1612399200000</td>\n",
              "      <td>233.01</td>\n",
              "      <td>233.01</td>\n",
              "      <td>233.01</td>\n",
              "      <td>300</td>\n",
              "      <td>233.01</td>\n",
              "    </tr>\n",
              "    <tr>\n",
              "      <th>3</th>\n",
              "      <td>1612399140000</td>\n",
              "      <td>233.01</td>\n",
              "      <td>233.01</td>\n",
              "      <td>233.01</td>\n",
              "      <td>100</td>\n",
              "      <td>233.01</td>\n",
              "    </tr>\n",
              "    <tr>\n",
              "      <th>4</th>\n",
              "      <td>1612398060000</td>\n",
              "      <td>233.20</td>\n",
              "      <td>233.20</td>\n",
              "      <td>233.20</td>\n",
              "      <td>788</td>\n",
              "      <td>233.20</td>\n",
              "    </tr>\n",
              "  </tbody>\n",
              "</table>\n",
              "</div>"
            ],
            "text/plain": [
              "       timestamp    open     low    high  volume   close\n",
              "0  1612399860000  233.01  233.01  233.01     100  233.01\n",
              "1  1612399260000  233.20  233.20  233.20     214  233.20\n",
              "2  1612399200000  233.01  233.01  233.01     300  233.01\n",
              "3  1612399140000  233.01  233.01  233.01     100  233.01\n",
              "4  1612398060000  233.20  233.20  233.20     788  233.20"
            ]
          },
          "metadata": {
            "tags": []
          },
          "execution_count": 14
        }
      ]
    },
    {
      "cell_type": "code",
      "metadata": {
        "id": "4mZuNgfmGmbp"
      },
      "source": [
        "def load_model(ticker):\n",
        "    model = keras.models.load_model('models/' + ticker)\n",
        "    df = pd.read_csv('ticker_folder/' + ticker + '.csv')\n",
        "    df = df.drop(['timestamp'], axis=1)\n",
        "    x_train, y_train, x_test, y_test, scaler = split_data(df)\n",
        "    predictions = model.predict(x_test)\n",
        "\n",
        "    scale = 1 / scaler\n",
        "    predictions = predictions * scale\n",
        "    y_test = y_test * scale\n",
        "    visualize_prediction(predictions, y_test, ticker)"
      ],
      "execution_count": 15,
      "outputs": []
    },
    {
      "cell_type": "code",
      "metadata": {
        "colab": {
          "base_uri": "https://localhost:8080/",
          "height": 334
        },
        "id": "eyISvoGRG59C",
        "outputId": "d466b929-1ae0-4f9e-9c1f-917a97273694"
      },
      "source": [
        "load_model('BRK.B')"
      ],
      "execution_count": 16,
      "outputs": [
        {
          "output_type": "display_data",
          "data": {
            "image/png": "[encoded data removed]",
            "text/plain": [
              "<Figure size 1008x360 with 1 Axes>"
            ]
          },
          "metadata": {
            "tags": [],
            "needs_background": "light"
          }
        }
      ]
    },
    {
      "cell_type": "code",
      "metadata": {
        "id": "x5wcPXe8FOuV"
      },
      "source": [
        "def get_polarity(headline):\n",
        "    analysis = TextBlob(headline)\n",
        "    return analysis.polarity"
      ],
      "execution_count": 17,
      "outputs": []
    },
    {
      "cell_type": "code",
      "metadata": {
        "colab": {
          "base_uri": "https://localhost:8080/"
        },
        "id": "9VCiGx_zFxHS",
        "outputId": "5e95a011-5c1d-4625-ebdd-f7b71c42410d"
      },
      "source": [
        "polarity = get_polarity('BRK.B is a good stock to buy')\n",
        "print('polarity: ' + str(polarity))"
      ],
      "execution_count": 18,
      "outputs": [
        {
          "output_type": "stream",
          "text": [
            "polarity: 0.7\n"
          ],
          "name": "stdout"
        }
      ]
    }
  ]
}