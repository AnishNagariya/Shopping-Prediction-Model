{
  "nbformat": 4,
  "nbformat_minor": 0,
  "metadata": {
    "colab": {
      "name": "StockPrediction-AI.ipynb",
      "provenance": [],
      "authorship_tag": "ABX9TyORq5cMzm4IEqPtCRWJG4Ze",
      "include_colab_link": true
    },
    "kernelspec": {
      "name": "python3",
      "display_name": "Python 3"
    }
  },
  "cells": [
    {
      "cell_type": "markdown",
      "metadata": {
        "id": "view-in-github",
        "colab_type": "text"
      },
      "source": [
        "<a href=\"https://colab.research.google.com/github/anish-nagariya/Shopping-Prediction-Model/blob/main/StockPrediction_AI.ipynb\" target=\"_parent\"><img src=\"https://colab.research.google.com/assets/colab-badge.svg\" alt=\"Open In Colab\"/></a>"
      ]
    },
    {
      "cell_type": "code",
      "metadata": {
        "id": "adw4psI5kB7y"
      },
      "source": [
        "import matplotlib.pyplot as plt\n",
        "import pandas as pd\n",
        "import numpy as np\n",
        "import keras\n",
        "\n",
        "from sklearn.preprocessing import MinMaxScaler\n",
        "from textblob import TextBlob\n",
        "from polygon import RESTClient\n",
        "from tensorflow.keras import Sequential\n",
        "from tensorflow.keras.layers import Dense, LSTM, Dropout, Bidirectional, Activation"
      ],
      "execution_count": 55,
      "outputs": []
    },
    {
      "cell_type": "code",
      "metadata": {
        "id": "r_NiLYk9k5rg"
      },
      "source": [
        "API_KEY = 'vqeohd8x5k1x6PKiisJQS8RgS3A1iRQC'\n",
        "tickers = [\n",
        "    'MSFT', 'AAPL', 'AMZN', 'GOOG', 'GOOGL',\n",
        "    'FB', 'BRK.B', 'JNJ', 'V',\n",
        "    'PG','JPM', 'UNH', 'MA', 'INTC', 'VZ',\n",
        "    'HD', 'T', 'PFE', 'MRK', 'PEP'\n",
        "    ]"
      ],
      "execution_count": 38,
      "outputs": []
    },
    {
      "cell_type": "code",
      "metadata": {
        "id": "8hfADjAck96o"
      },
      "source": [
        "def load_previous_data(ticker, api_key, multiplier, timespan):\n",
        "    f = open('ticker_folder/' + ticker + '.csv', 'w')\n",
        "    with RESTClient(api_key) as client:\n",
        "        resp = client.stocks_equities_aggregates(ticker=ticker, multiplier=multiplier, timespan=timespan,\n",
        "                                                 from_='1999-07-12', to='2021-02-01', unadjusted=False,\n",
        "                                                 sort='asc', limit=50000)\n",
        "        resp = resp.results\n",
        "        f.write('o,l,h,v,c\\n')\n",
        "        for query in resp:\n",
        "            f.write(str(query['o']) + ',' + str(query['l']) + ','\n",
        "                    + str(query['h']) + ',' + str(query['v']) + ',' + str(query['c']) + '\\n')\n",
        "        f.close()"
      ],
      "execution_count": 65,
      "outputs": []
    },
    {
      "cell_type": "code",
      "metadata": {
        "id": "_S1D_ZsalNXW"
      },
      "source": [
        "def get_minute_data(ticker, api_key, last_minutes):\n",
        "    f = open('recent_ticker_data/' + ticker + '.csv', 'w')\n",
        "    with RESTClient(api_key) as client:\n",
        "        resp = client.stocks_equities_aggregates(ticker=ticker, multiplier=1, timespan='minute',\n",
        "                                                 from_='1999-07-12', to='2021-02-03', unadjusted=True,\n",
        "                                                 sort='desc', limit=last_minutes)\n",
        "        resp = resp.results\n",
        "        f.write('o,l,v,c\\n')\n",
        "        for query in resp:\n",
        "            f.write(str(query['o']) + ','\n",
        "                    + str(query['h']) + ',' + str(query['v']) + ',' + str(query['c']) + '\\n')\n",
        "        f.close()\n",
        "get_minute_data('GOOG', API_KEY, 50)"
      ],
      "execution_count": 69,
      "outputs": []
    },
    {
      "cell_type": "code",
      "metadata": {
        "id": "c2E5dEDQlUzr"
      },
      "source": [
        "def get_all_news(ticker, api_key):\n",
        "    f = open(ticker + '_news.csv', 'w')\n",
        "    f.write('date,title\\n')\n",
        "    with RESTClient(api_key) as client:\n",
        "        for j in range(35):\n",
        "            resp = client.reference_ticker_news(symbol=ticker, perpage=50, page=j)\n",
        "            for i in range(50):\n",
        "                f.write(resp.news[i].timestamp + ',' + resp.news[i].title + '\\n')"
      ],
      "execution_count": 42,
      "outputs": []
    },
    {
      "cell_type": "code",
      "metadata": {
        "colab": {
          "base_uri": "https://localhost:8080/"
        },
        "id": "WQHW16fOleVL",
        "outputId": "18fee27e-1510-41dd-ff78-c6c9f0d12768"
      },
      "source": [
        "def get_polarity(headline):\n",
        "    analysis = TextBlob(headline)\n",
        "    return analysis.polarity\n",
        "get_polarity(\"The Apple Franchise Has Significant Upside, Says Munster\")"
      ],
      "execution_count": 63,
      "outputs": [
        {
          "output_type": "execute_result",
          "data": {
            "text/plain": [
              "0.375"
            ]
          },
          "metadata": {
            "tags": []
          },
          "execution_count": 63
        }
      ]
    },
    {
      "cell_type": "code",
      "metadata": {
        "id": "T1jDB6HumQH4"
      },
      "source": [
        "def split_data(ticker):\n",
        "    data = pd.read_csv('ticker_folder/' + ticker + '.csv')\n",
        "    days = len(data)\n",
        "    data_training = data[:days - 60]\n",
        "    data_testing = data[days - 60:]\n",
        "    scaler = MinMaxScaler()\n",
        "    training_data = data_training.copy()\n",
        "    data_training = scaler.fit_transform(data_training)\n",
        "    x_train, y_train, x_test, y_test = [], [], [], []\n",
        "\n",
        "    for i in range(60, data_training.shape[0]):\n",
        "        x_train.append(data_training[i - 60: i])\n",
        "        y_train.append(data_training[i, 0])\n",
        "\n",
        "    past_60_days = training_data.tail(60)\n",
        "    df = past_60_days.append(data_testing, ignore_index=True)\n",
        "    inputs = scaler.transform(df)\n",
        "\n",
        "    for i in range(60, inputs.shape[0]):\n",
        "        x_test.append(inputs[i - 60:i])\n",
        "        y_test.append(inputs[i, 0])\n",
        "\n",
        "    x_train = np.asarray(x_train)\n",
        "    y_train = np.asarray(y_train)\n",
        "    x_test = np.asarray(x_test)\n",
        "    y_test = np.asarray(y_test)\n",
        "\n",
        "    return x_train, y_train, x_test, y_test, scaler.scale_[0]\n"
      ],
      "execution_count": 10,
      "outputs": []
    },
    {
      "cell_type": "code",
      "metadata": {
        "id": "ZPH0qxQcmekd"
      },
      "source": [
        "def create_rnn():\n",
        "    model = Sequential()\n",
        "\n",
        "    model.add(Bidirectional(LSTM(units=50, activation='relu', input_shape=(60, 5), return_sequences=True)))\n",
        "    model.add(Dropout(0.1))\n",
        "\n",
        "    model.add(Bidirectional(LSTM(units=60, activation='relu', return_sequences=True)))\n",
        "    model.add(Dropout(0.1))\n",
        "\n",
        "    model.add(Bidirectional(LSTM(units=80, activation='relu', return_sequences=True)))\n",
        "    model.add(Dropout(0.1))\n",
        "\n",
        "    model.add(Bidirectional(LSTM(units=100, activation='relu', return_sequences=True)))\n",
        "    model.add(Dropout(0.1))\n",
        "\n",
        "    model.add(Bidirectional(LSTM(units=120, activation='relu', return_sequences=False)))\n",
        "    model.add(Dropout(0.1))\n",
        "    model.add(Activation('linear'))\n",
        "\n",
        "    model.add(Dense(units=50))\n",
        "    model.add(Dense(units=25))\n",
        "    model.add(Dense(units=1))\n",
        "\n",
        "    return model"
      ],
      "execution_count": 27,
      "outputs": []
    },
    {
      "cell_type": "code",
      "metadata": {
        "id": "JITMjV6tnD-s"
      },
      "source": [
        "def plot_prediction(y_test, y_predictions, ticker):\n",
        "    plt.figure(figsize=(14, 5))\n",
        "    plt.plot(y_test, c='r', label='Real ' + ticker + ' stock price')\n",
        "    plt.plot(y_predictions, c='b', label='Predicted ' + ticker + ' stock price')\n",
        "    plt.xlabel('time')\n",
        "    plt.ylabel(ticker + ' Stock Price')\n",
        "    plt.legend()\n",
        "    plt.show()"
      ],
      "execution_count": 43,
      "outputs": []
    },
    {
      "cell_type": "code",
      "metadata": {
        "id": "XRiRMBg9nZ_t"
      },
      "source": [
        "def create_model(ticker):\n",
        "    load_previous_data(ticker=ticker, api_key=API_KEY, multiplier=1, timespan='day')\n",
        "    x_train, y_train, x_test, y_test, scaler = split_data(ticker)\n",
        "\n",
        "    model = create_rnn()\n",
        "    model.compile(\n",
        "        optimizer='adam',\n",
        "        loss='mean_squared_error',\n",
        "    )\n",
        "    model.fit(\n",
        "        x_train, y_train, epochs=500, batch_size=512, validation_split=0.1\n",
        "    )\n",
        "    predictions = model.predict(x_test)\n",
        "    model.save('models/' + ticker)\n",
        "\n",
        "    scale = 1 / scaler\n",
        "    predictions = predictions * scale\n",
        "    y_test = y_test * scale\n",
        "    plot_prediction(y_test, predictions, ticker)\n",
        "\n",
        "    return"
      ],
      "execution_count": 73,
      "outputs": []
    },
    {
      "cell_type": "code",
      "metadata": {
        "colab": {
          "base_uri": "https://localhost:8080/",
          "height": 334
        },
        "id": "5XNC-RBbn2Gp",
        "outputId": "385777b8-ca9d-425f-d317-4a29c6420031"
      },
      "source": [
        "def load_model(ticker):\n",
        "    model = keras.models.load_model('models/' + ticker)\n",
        "    x_train, y_train, x_test, y_test, scaler = split_data(ticker)\n",
        "    predictions = model.predict(x_test)\n",
        "\n",
        "    scale = 1 / scaler\n",
        "    predictions = predictions * scale\n",
        "    y_test = y_test * scale\n",
        "    plot_prediction(y_test, predictions, ticker)\n",
        "\n",
        "    return\n",
        "\n",
        "load_model('GOOG')"
      ],
      "execution_count": 56,
      "outputs": [
        {
          "output_type": "display_data",
          "data": {
            "image/png": "[encoded data removed]",
            "text/plain": [
              "<Figure size 1008x360 with 1 Axes>"
            ]
          },
          "metadata": {
            "tags": [],
            "needs_background": "light"
          }
        }
      ]
    },
    {
      "cell_type": "code",
      "metadata": {
        "id": "FHu--GtqoBqQ"
      },
      "source": [
        "def main():\n",
        "    create_model('GOOG')"
      ],
      "execution_count": 49,
      "outputs": []
    },
    {
      "cell_type": "code",
      "metadata": {
        "colab": {
          "base_uri": "https://localhost:8080/"
        },
        "id": "3dGLhtuxq-BO",
        "outputId": "c88a8016-abdb-4fb2-c97a-4120cc25a814"
      },
      "source": [
        "if __name__ == \"__main__\":\n",
        "    main()\n"
      ],
      "execution_count": null,
      "outputs": [
        {
          "output_type": "stream",
          "text": [
            "Epoch 1/500\n",
            "8/8 [==============================] - 48s 4s/step - loss: 0.0943 - val_loss: 0.0136\n",
            "Epoch 2/500\n",
            "8/8 [==============================] - 35s 4s/step - loss: 0.0176 - val_loss: 0.0164\n",
            "Epoch 3/500\n",
            "8/8 [==============================] - 34s 4s/step - loss: 0.0128 - val_loss: 0.0054\n",
            "Epoch 4/500\n",
            "8/8 [==============================] - 34s 4s/step - loss: 0.0075 - val_loss: 0.0013\n",
            "Epoch 5/500\n",
            "8/8 [==============================] - 33s 4s/step - loss: 0.0066 - val_loss: 0.0015\n",
            "Epoch 6/500\n",
            "8/8 [==============================] - 33s 4s/step - loss: 0.0040 - val_loss: 0.0011\n",
            "Epoch 7/500\n",
            "3/8 [==========>...................] - ETA: 21s - loss: 0.0033"
          ],
          "name": "stdout"
        }
      ]
    }
  ]
}